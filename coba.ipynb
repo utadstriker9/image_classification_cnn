{
 "cells": [
  {
   "cell_type": "code",
   "execution_count": 2,
   "metadata": {},
   "outputs": [
    {
     "name": "stdout",
     "output_type": "stream",
     "text": [
      "                                               Image  Label\n",
      "0  <PIL.Image.Image image mode=RGB size=64x64 at ...  Apple\n",
      "1  <PIL.Image.Image image mode=RGB size=64x64 at ...  Grape\n",
      "2  <PIL.Image.Image image mode=RGB size=64x64 at ...  Apple\n",
      "3  <PIL.Image.Image image mode=RGB size=64x64 at ...  Apple\n",
      "4  <PIL.Image.Image image mode=RGB size=64x64 at ...  Apple\n"
     ]
    }
   ],
   "source": [
    "import pandas as pd\n",
    "import os\n",
    "from PIL import Image\n",
    "import utils as utils\n",
    "\n",
    "CONFIG_DATA = utils.config_load()\n",
    "\n",
    "# Create an empty DataFrame to store the image data and labels\n",
    "df = pd.DataFrame(columns=[\"Image\", \"Label\"])\n",
    "\n",
    "# Retrieve the list of files from the SSH server directory\n",
    "data_directory = CONFIG_DATA['data_source']\n",
    "file_list = os.listdir(data_directory)\n",
    "\n",
    "# Resize dimensions\n",
    "resize_width = 64\n",
    "resize_height = 64\n",
    "\n",
    "# Loop through each image file in the SSH server directory\n",
    "for filename in file_list:\n",
    "    if filename.endswith(\".jpeg\"):\n",
    "        # Load the image using PIL\n",
    "        image_path = os.path.join(data_directory, filename)\n",
    "        image = Image.open(image_path)\n",
    "        \n",
    "        # Resize the image\n",
    "        image = image.resize((resize_width, resize_height))\n",
    "\n",
    "        # Add the class name as a prefix to the label\n",
    "        if filename.startswith(\"Banana\"):\n",
    "            label = \"Banana\"\n",
    "        elif filename.startswith(\"Apple\"):\n",
    "            label = \"Apple\"\n",
    "        elif filename.startswith(\"Grape\"):\n",
    "            label = \"Grape\"\n",
    "\n",
    "        # Add the image and label to the DataFrame\n",
    "        df.loc[len(df)] = [image, label]\n",
    "        # df = df.append({'Image': image, 'Label': label}, ignore_index=True)\n",
    "\n",
    "# Print the resulting DataFrame\n",
    "print(df.head())\n",
    "\n",
    "# Dump File\n",
    "utils.dump_json(df, CONFIG_DATA['raw_set_path'])\n"
   ]
  },
  {
   "cell_type": "code",
   "execution_count": 3,
   "metadata": {},
   "outputs": [],
   "source": [
    "from sklearn.model_selection import train_test_split\n",
    "import utils as utils\n",
    "\n",
    "CONFIG_DATA = utils.config_load()\n",
    "\n",
    "# Split the data into training and testing sets\n",
    "train_df, test_df = train_test_split(df, test_size=CONFIG_DATA['test_size'], random_state=CONFIG_DATA['random_state'])\n",
    "train_df, val_df = train_test_split(train_df, test_size=CONFIG_DATA['test_size'], random_state=CONFIG_DATA['random_state'])\n",
    "\n",
    "import numpy as np\n",
    "from keras.preprocessing.image import img_to_array\n",
    "\n",
    "# Convert images to numpy arrays\n",
    "train_images = np.array([img_to_array(img) for img in train_df['Image']])\n",
    "val_images = np.array([img_to_array(img) for img in val_df['Image']])\n",
    "test_images = np.array([img_to_array(img) for img in test_df['Image']])\n",
    "\n",
    "# Normalize the image pixel values between 0 and 1\n",
    "train_images = train_images.astype('float32') / 255.0\n",
    "val_images = val_images.astype('float32') / 255.0\n",
    "test_images = test_images.astype('float32') / 255.0\n",
    "\n",
    "# Convert labels to categorical\n",
    "num_classes = df['Label'].nunique()\n",
    "train_labels = pd.get_dummies(train_df['Label']).values\n",
    "val_labels = pd.get_dummies(val_df['Label']).values\n",
    "test_labels = pd.get_dummies(test_df['Label']).values"
   ]
  },
  {
   "cell_type": "code",
   "execution_count": 4,
   "metadata": {},
   "outputs": [
    {
     "name": "stdout",
     "output_type": "stream",
     "text": [
      "Epoch 1/10\n"
     ]
    },
    {
     "name": "stdout",
     "output_type": "stream",
     "text": [
      "99/99 [==============================] - 7s 65ms/step - loss: 1.0308 - accuracy: 0.4723 - val_loss: 0.8963 - val_accuracy: 0.5879\n",
      "Epoch 2/10\n",
      "99/99 [==============================] - 5s 49ms/step - loss: 0.8552 - accuracy: 0.6156 - val_loss: 0.8336 - val_accuracy: 0.6271\n",
      "Epoch 3/10\n",
      "99/99 [==============================] - 5s 47ms/step - loss: 0.7677 - accuracy: 0.6595 - val_loss: 0.7816 - val_accuracy: 0.6536\n",
      "Epoch 4/10\n",
      "99/99 [==============================] - 5s 46ms/step - loss: 0.7052 - accuracy: 0.7060 - val_loss: 0.7821 - val_accuracy: 0.6700\n",
      "Epoch 5/10\n",
      "99/99 [==============================] - 5s 47ms/step - loss: 0.6338 - accuracy: 0.7325 - val_loss: 0.8015 - val_accuracy: 0.6675\n",
      "Epoch 6/10\n",
      "99/99 [==============================] - 5s 46ms/step - loss: 0.5581 - accuracy: 0.7834 - val_loss: 0.8507 - val_accuracy: 0.6650\n",
      "Epoch 7/10\n",
      "99/99 [==============================] - 5s 47ms/step - loss: 0.4692 - accuracy: 0.8154 - val_loss: 0.8029 - val_accuracy: 0.6675\n",
      "Epoch 8/10\n",
      "99/99 [==============================] - 5s 47ms/step - loss: 0.3852 - accuracy: 0.8603 - val_loss: 0.8743 - val_accuracy: 0.6890\n",
      "Epoch 9/10\n",
      "99/99 [==============================] - 5s 46ms/step - loss: 0.3104 - accuracy: 0.8868 - val_loss: 0.9131 - val_accuracy: 0.6941\n",
      "Epoch 10/10\n",
      "99/99 [==============================] - 5s 47ms/step - loss: 0.2300 - accuracy: 0.9241 - val_loss: 0.9393 - val_accuracy: 0.7118\n",
      "31/31 [==============================] - 0s 13ms/step - loss: 0.9221 - accuracy: 0.6775\n",
      "Test Loss: 0.9220583438873291\n",
      "Test Accuracy: 0.6774519681930542\n",
      "31/31 [==============================] - 0s 12ms/step\n",
      "Accuracy: 0.6774519716885743\n"
     ]
    },
    {
     "name": "stderr",
     "output_type": "stream",
     "text": [
      "/home/aegis_poc/aegis_venv/lib/python3.8/site-packages/keras/src/engine/training.py:3000: UserWarning: You are saving your model as an HDF5 file via `model.save()`. This file format is considered legacy. We recommend using instead the native Keras format, e.g. `model.save('my_model.keras')`.\n",
      "  saving_api.save_model(\n"
     ]
    }
   ],
   "source": [
    "from keras.models import Sequential\n",
    "from keras.layers import Conv2D, MaxPooling2D, Flatten, Dense\n",
    "\n",
    "# Create the model\n",
    "model = Sequential()\n",
    "model.add(Conv2D(32, (3, 3), activation='relu', input_shape=train_images.shape[1:]))\n",
    "model.add(MaxPooling2D((2, 2)))\n",
    "model.add(Conv2D(64, (3, 3), activation='relu'))\n",
    "model.add(MaxPooling2D((2, 2)))\n",
    "model.add(Flatten())\n",
    "model.add(Dense(64, activation='relu'))\n",
    "model.add(Dense(num_classes, activation='softmax'))\n",
    "model.compile(optimizer='adam', loss='categorical_crossentropy', metrics=['accuracy'])\n",
    "\n",
    "# Train the model\n",
    "batch_size = 32\n",
    "epochs = 10\n",
    "model.fit(train_images, train_labels, batch_size=batch_size, epochs=epochs, validation_data=(val_images, val_labels))\n",
    "\n",
    "# Evaluate the model on the testing set\n",
    "test_loss, test_accuracy = model.evaluate(test_images, test_labels)\n",
    "print(\"Test Loss:\", test_loss)\n",
    "print(\"Test Accuracy:\", test_accuracy)\n",
    "\n",
    "# Make predictions on the testing set\n",
    "predictions = model.predict(test_images)\n",
    "\n",
    "# Convert the predictions to labels\n",
    "predicted_labels = np.argmax(predictions, axis=1)\n",
    "true_labels = np.argmax(test_labels, axis=1)\n",
    "\n",
    "# Compare the predicted labels with true labels\n",
    "correct_predictions = np.sum(predicted_labels == true_labels)\n",
    "total_predictions = len(test_labels)\n",
    "accuracy = correct_predictions / total_predictions\n",
    "print(\"Accuracy:\", accuracy)\n",
    "\n",
    "\n",
    "# Dump File Model\n",
    "model.save(CONFIG_DATA['model_path'])"
   ]
  }
 ],
 "metadata": {
  "kernelspec": {
   "display_name": "aegis_venv",
   "language": "python",
   "name": "python3"
  },
  "language_info": {
   "codemirror_mode": {
    "name": "ipython",
    "version": 3
   },
   "file_extension": ".py",
   "mimetype": "text/x-python",
   "name": "python",
   "nbconvert_exporter": "python",
   "pygments_lexer": "ipython3",
   "version": "3.8.10"
  },
  "orig_nbformat": 4
 },
 "nbformat": 4,
 "nbformat_minor": 2
}
